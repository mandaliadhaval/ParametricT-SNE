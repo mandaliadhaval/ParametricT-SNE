{
 "cells": [
  {
   "cell_type": "code",
   "execution_count": 1,
   "metadata": {},
   "outputs": [],
   "source": [
    "import numpy as np\n",
    "np.random.seed(10)\n",
    "import matplotlib\n",
    "matplotlib.use('Agg')"
   ]
  },
  {
   "cell_type": "code",
   "execution_count": 2,
   "metadata": {},
   "outputs": [
    {
     "name": "stderr",
     "output_type": "stream",
     "text": [
      "Using TensorFlow backend.\n"
     ]
    }
   ],
   "source": [
    "from keras import backend as K\n",
    "from keras.models import Sequential\n",
    "from keras.layers.core import Dense, Dropout, Activation, Flatten\n",
    "from keras.layers.convolutional import Convolution2D, MaxPooling2D\n",
    "from keras.optimizers import SGD\n",
    "from keras.callbacks import Callback\n",
    "from keras.utils import np_utils\n",
    "from keras.objectives import categorical_crossentropy\n",
    "from keras.datasets import cifar10, mnist"
   ]
  },
  {
   "cell_type": "code",
   "execution_count": 3,
   "metadata": {},
   "outputs": [],
   "source": [
    "import matplotlib.pyplot as plt\n",
    "from matplotlib.animation import ArtistAnimation\n",
    "import multiprocessing as mp"
   ]
  },
  {
   "cell_type": "code",
   "execution_count": 4,
   "metadata": {},
   "outputs": [],
   "source": [
    "batch_size = 5000\n",
    "low_dim = 2\n",
    "nb_epoch = 100\n",
    "shuffle_interval = nb_epoch + 1\n",
    "n_jobs = 4\n",
    "perplexity = 30.0"
   ]
  },
  {
   "cell_type": "code",
   "execution_count": 5,
   "metadata": {},
   "outputs": [],
   "source": [
    "def Hbeta(D, beta):\n",
    "    P = np.exp(-D * beta)\n",
    "    sumP = np.sum(P)\n",
    "    H = np.log(sumP) + beta * np.sum(D * P) / sumP\n",
    "    P = P / sumP\n",
    "    return H, P"
   ]
  },
  {
   "cell_type": "code",
   "execution_count": 6,
   "metadata": {},
   "outputs": [],
   "source": [
    "def x2p_job(data):\n",
    "    i, Di, tol, logU = data\n",
    "    beta = 1.0\n",
    "    betamin = -np.inf\n",
    "    betamax = np.inf\n",
    "    H, thisP = Hbeta(Di, beta)\n",
    "\n",
    "    Hdiff = H - logU\n",
    "    tries = 0\n",
    "    while np.abs(Hdiff) > tol and tries < 50:\n",
    "        if Hdiff > 0:\n",
    "            betamin = beta\n",
    "            if betamax == -np.inf:\n",
    "                beta = beta * 2\n",
    "            else:\n",
    "                beta = (betamin + betamax) / 2\n",
    "        else:\n",
    "            betamax = beta\n",
    "            if betamin == -np.inf:\n",
    "                beta = beta / 2\n",
    "            else:\n",
    "                beta = (betamin + betamax) / 2\n",
    "\n",
    "        H, thisP = Hbeta(Di, beta)\n",
    "        Hdiff = H - logU\n",
    "        tries += 1\n",
    "\n",
    "    return i, thisP"
   ]
  },
  {
   "cell_type": "code",
   "execution_count": 20,
   "metadata": {},
   "outputs": [],
   "source": [
    "def x2p(X):\n",
    "    tol = 1e-5\n",
    "    n = X.shape[0]\n",
    "    logU = np.log(perplexity)\n",
    "\n",
    "    sum_X = np.sum(np.square(X), axis=1)\n",
    "    D = sum_X + (sum_X.reshape([-1, 1]) - 2 * np.dot(X, X.T))\n",
    "\n",
    "    idx = (1 - np.eye(n)).astype(bool)\n",
    "    D = D[idx].reshape([n, -1])\n",
    "\n",
    "    def generator():\n",
    "        for i in range(n):\n",
    "            yield i, D[i], tol, logU\n",
    "\n",
    "    pool = mp.Pool(n_jobs)\n",
    "    result = pool.map(x2p_job, generator())\n",
    "    P = np.zeros([n, n])\n",
    "    for i, thisP in result:\n",
    "        P[i, idx[i]] = thisP\n",
    "\n",
    "    return P"
   ]
  },
  {
   "cell_type": "code",
   "execution_count": 21,
   "metadata": {},
   "outputs": [],
   "source": [
    "def calculate_P(X):\n",
    "    print (\"Computing pairwise distances...\")\n",
    "    n = X.shape[0]\n",
    "    P = np.zeros([n, batch_size])\n",
    "    for i in range(0, n, batch_size):\n",
    "        P_batch = x2p(X[i:i + batch_size])\n",
    "        P_batch[np.isnan(P_batch)] = 0\n",
    "        P_batch = P_batch + P_batch.T\n",
    "        P_batch = P_batch / P_batch.sum()\n",
    "        P_batch = np.maximum(P_batch, 1e-12)\n",
    "        P[i:i + batch_size] = P_batch\n",
    "    return P"
   ]
  },
  {
   "cell_type": "code",
   "execution_count": 22,
   "metadata": {},
   "outputs": [],
   "source": [
    "def KLdivergence(P, Y):\n",
    "    alpha = low_dim - 1.\n",
    "    sum_Y = K.sum(K.square(Y), axis=1)\n",
    "    eps = K.variable(10e-15)\n",
    "    D = sum_Y + K.reshape(sum_Y, [-1, 1]) - 2 * K.dot(Y, K.transpose(Y))\n",
    "    Q = K.pow(1 + D / alpha, -(alpha + 1) / 2)\n",
    "    Q *= K.variable(1 - np.eye(batch_size))\n",
    "    Q /= K.sum(Q)\n",
    "    Q = K.maximum(Q, eps)\n",
    "    C = K.log((P + eps) / (Q + eps))\n",
    "    C = K.sum(P * C)\n",
    "    return C"
   ]
  },
  {
   "cell_type": "code",
   "execution_count": 11,
   "metadata": {},
   "outputs": [
    {
     "name": "stdout",
     "output_type": "stream",
     "text": [
      "load data\n",
      "Downloading data from https://s3.amazonaws.com/img-datasets/mnist.npz\n",
      "11493376/11490434 [==============================] - 383s 33us/step\n"
     ]
    }
   ],
   "source": [
    "print (\"load data\")\n",
    "# Use any one Cifar or MNIST\n",
    "# # cifar-10\n",
    "# (X_train, y_train), (X_test, y_test) = cifar10.load_data()\n",
    "# n, channel, row, col = X_train.shape\n",
    "\n",
    "# # mnist\n",
    "(X_train, y_train), (X_test, y_test) = mnist.load_data()\n",
    "n, row, col = X_train.shape\n",
    "channel = 1"
   ]
  },
  {
   "cell_type": "code",
   "execution_count": 12,
   "metadata": {},
   "outputs": [
    {
     "name": "stdout",
     "output_type": "stream",
     "text": [
      "X_train.shape: (60000, 784)\n",
      "X_test.shape: (10000, 784)\n"
     ]
    }
   ],
   "source": [
    "X_train = X_train.reshape(-1, channel * row * col)\n",
    "X_test = X_test.reshape(-1, channel * row * col)\n",
    "X_train = X_train.astype('float32')\n",
    "X_test = X_test.astype('float32')\n",
    "X_train /= 255\n",
    "X_test /= 255\n",
    "print (\"X_train.shape:\", X_train.shape)\n",
    "print (\"X_test.shape:\", X_test.shape)"
   ]
  },
  {
   "cell_type": "code",
   "execution_count": 13,
   "metadata": {},
   "outputs": [],
   "source": [
    "batch_num = int(n // batch_size)\n",
    "m = batch_num * batch_size"
   ]
  },
  {
   "cell_type": "code",
   "execution_count": 14,
   "metadata": {},
   "outputs": [
    {
     "name": "stdout",
     "output_type": "stream",
     "text": [
      "build model\n"
     ]
    }
   ],
   "source": [
    "print(\"build model\")\n",
    "model = Sequential()\n",
    "model.add(Dense(500, input_shape=(X_train.shape[1],)))\n",
    "model.add(Activation('relu'))\n",
    "model.add(Dense(500))\n",
    "model.add(Activation('relu'))\n",
    "model.add(Dense(2000))\n",
    "model.add(Activation('relu'))\n",
    "model.add(Dense(2))\n",
    "\n",
    "model.compile(loss=KLdivergence, optimizer=\"adam\")"
   ]
  },
  {
   "cell_type": "code",
   "execution_count": 15,
   "metadata": {},
   "outputs": [
    {
     "name": "stdout",
     "output_type": "stream",
     "text": [
      "fit the model\n"
     ]
    }
   ],
   "source": [
    "print(\"fit the model\")\n",
    "images = []\n",
    "fig = plt.figure(figsize=(5, 5))"
   ]
  },
  {
   "cell_type": "code",
   "execution_count": null,
   "metadata": {},
   "outputs": [
    {
     "name": "stdout",
     "output_type": "stream",
     "text": [
      "Computing pairwise distances...\n"
     ]
    }
   ],
   "source": [
    "for epoch in range(nb_epoch):\n",
    "    # shuffle X_train and calculate P\n",
    "    if epoch % shuffle_interval == 0:\n",
    "        X = X_train[np.random.permutation(n)[:m]]\n",
    "        P = calculate_P(X)\n",
    "\n",
    "    # train\n",
    "    loss = 0\n",
    "    for i in range(0, n, batch_size):\n",
    "        loss += model.train_on_batch(X[i:i+batch_size], P[i:i+batch_size])\n",
    "    print (\"Epoch: {}/{}, loss: {}\".format(epoch+1, nb_epoch, loss / batch_num))\n",
    "\n",
    "    # visualize training process\n",
    "    pred = model.predict(X_test)\n",
    "    img = plt.scatter(pred[:, 0], pred[:, 1], c=y_test,\n",
    "                      marker='o', s=3, edgecolor='')\n",
    "    images.append([img])"
   ]
  },
  {
   "cell_type": "code",
   "execution_count": null,
   "metadata": {},
   "outputs": [],
   "source": [
    "ani = ArtistAnimation(fig, images, interval=100, repeat_delay=2000)\n",
    "ani.save(\"parametric_tsne.mp4\")"
   ]
  },
  {
   "cell_type": "code",
   "execution_count": null,
   "metadata": {},
   "outputs": [],
   "source": [
    "plt.clf()\n",
    "fig = plt.figure(figsize=(5, 5))\n",
    "pred = model.predict(X_test)\n",
    "plt.scatter(pred[:, 0], pred[:, 1], c=y_test, marker='o', s=4, edgecolor='')\n",
    "fig.tight_layout()"
   ]
  },
  {
   "cell_type": "code",
   "execution_count": null,
   "metadata": {},
   "outputs": [],
   "source": [
    "plt.savefig(\"mlp_result.png\")"
   ]
  }
 ],
 "metadata": {
  "kernelspec": {
   "display_name": "Python 3",
   "language": "python",
   "name": "python3"
  },
  "language_info": {
   "codemirror_mode": {
    "name": "ipython",
    "version": 3
   },
   "file_extension": ".py",
   "mimetype": "text/x-python",
   "name": "python",
   "nbconvert_exporter": "python",
   "pygments_lexer": "ipython3",
   "version": "3.6.6"
  }
 },
 "nbformat": 4,
 "nbformat_minor": 2
}
